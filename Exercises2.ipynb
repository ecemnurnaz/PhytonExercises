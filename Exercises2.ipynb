{
 "cells": [
  {
   "cell_type": "code",
   "execution_count": 101,
   "id": "908c084e",
   "metadata": {},
   "outputs": [],
   "source": [
    "#Question1\n",
    "def geriDondur(kelime):\n",
    "    bosCumle=\"\"\n",
    "    if(len(kelime)<3):\n",
    "        bosCumle=\"Length of the given string should be greater than 3\"\n",
    "    \n",
    "    else:\n",
    "        if(len(kelime)%2!=0):\n",
    "            ortadakiSayi=(len(kelime)-1)/2\n",
    "            bosCumle=kelime[int(ortadakiSayi-1):int(ortadakiSayi+2)]\n",
    "        else:\n",
    "            bosCumle=\"Please enter a string with odd length\"\n",
    "            \n",
    "    return bosCumle"
   ]
  },
  {
   "cell_type": "code",
   "execution_count": 102,
   "id": "dbfccb0e",
   "metadata": {},
   "outputs": [
    {
     "data": {
      "text/plain": [
       "'Length of the given string should be greater than 3'"
      ]
     },
     "execution_count": 102,
     "metadata": {},
     "output_type": "execute_result"
    }
   ],
   "source": [
    "geriDondur(\"hi\")"
   ]
  },
  {
   "cell_type": "code",
   "execution_count": 103,
   "id": "ac287c8b",
   "metadata": {},
   "outputs": [
    {
     "data": {
      "text/plain": [
       "'Please enter a string with odd length'"
      ]
     },
     "execution_count": 103,
     "metadata": {},
     "output_type": "execute_result"
    }
   ],
   "source": [
    "geriDondur(\"hola\")"
   ]
  },
  {
   "cell_type": "code",
   "execution_count": 104,
   "id": "3c088972",
   "metadata": {},
   "outputs": [
    {
     "data": {
      "text/plain": [
       "'ram'"
      ]
     },
     "execution_count": 104,
     "metadata": {},
     "output_type": "execute_result"
    }
   ],
   "source": [
    "geriDondur(\"programming\")"
   ]
  },
  {
   "cell_type": "code",
   "execution_count": 97,
   "id": "c5c81879",
   "metadata": {},
   "outputs": [],
   "source": [
    "#Question2\n",
    "def gruplama(sayilarListesi):\n",
    "    \n",
    "    yeniListe=[]\n",
    "    if(len(sayilarListesi)%3==0):\n",
    "        kacEleman=int(len(sayilarListesi)/3)\n",
    "        \n",
    "        for x in range(0,3): \n",
    "            toplam=0\n",
    "            for y in range(x*kacEleman,((x+1)*kacEleman)): \n",
    "                toplam+=sayilarListesi[y]\n",
    "            yeniListe.append(toplam)\n",
    "        return yeniListe\n",
    "\n",
    "    else:\n",
    "        uyari=\"can not be divided into 3 chunks\"\n",
    "        return uyari"
   ]
  },
  {
   "cell_type": "code",
   "execution_count": 98,
   "id": "c94ad81e",
   "metadata": {},
   "outputs": [
    {
     "data": {
      "text/plain": [
       "[4, 8, 12]"
      ]
     },
     "execution_count": 98,
     "metadata": {},
     "output_type": "execute_result"
    }
   ],
   "source": [
    "gruplama([1,1,1,1,2,2,2,2,3,3,3,3])"
   ]
  },
  {
   "cell_type": "code",
   "execution_count": 99,
   "id": "df72ab70",
   "metadata": {},
   "outputs": [
    {
     "data": {
      "text/plain": [
       "[6, 15, 24]"
      ]
     },
     "execution_count": 99,
     "metadata": {},
     "output_type": "execute_result"
    }
   ],
   "source": [
    "gruplama([1,2,3,4,5,6,7,8,9])\n",
    "        "
   ]
  },
  {
   "cell_type": "code",
   "execution_count": 65,
   "id": "cc4a7565",
   "metadata": {},
   "outputs": [
    {
     "data": {
      "text/plain": [
       "'can not be divided into 3 chunks'"
      ]
     },
     "execution_count": 65,
     "metadata": {},
     "output_type": "execute_result"
    }
   ],
   "source": [
    "gruplama([1,2,3,4,5,6,7,8,9,10])"
   ]
  },
  {
   "cell_type": "code",
   "execution_count": 2,
   "id": "864ee2f2",
   "metadata": {},
   "outputs": [],
   "source": [
    "#Question3\n",
    "def tersCevir(cumle):\n",
    "    yeniCumle=\"\"\n",
    "    if(cumle.find(\" \")!=-1):\n",
    "        cumle=cumle.split(' ')\n",
    "        for kelime in cumle:\n",
    "            kelime=kelime[::-1]\n",
    "            yeniCumle+=kelime+\" \"\n",
    "        yeniCumle=yeniCumle.rstrip(' ')\n",
    "    else:\n",
    "        yeniCumle=cumle[::-1]     \n",
    "    return yeniCumle \n",
    "        "
   ]
  },
  {
   "cell_type": "code",
   "execution_count": 93,
   "id": "dca24c6b",
   "metadata": {},
   "outputs": [
    {
     "data": {
      "text/plain": [
       "'ilA temhA penyeZ'"
      ]
     },
     "execution_count": 93,
     "metadata": {},
     "output_type": "execute_result"
    }
   ],
   "source": [
    "tersCevir(\"Ali Ahmet Zeynep\")"
   ]
  },
  {
   "cell_type": "code",
   "execution_count": 94,
   "id": "cea21d97",
   "metadata": {},
   "outputs": [
    {
     "data": {
      "text/plain": [
       "'cba fed'"
      ]
     },
     "execution_count": 94,
     "metadata": {},
     "output_type": "execute_result"
    }
   ],
   "source": [
    "tersCevir(\"abc def\")"
   ]
  },
  {
   "cell_type": "code",
   "execution_count": 3,
   "id": "5964523f",
   "metadata": {},
   "outputs": [
    {
     "data": {
      "text/plain": [
       "'mecE'"
      ]
     },
     "execution_count": 3,
     "metadata": {},
     "output_type": "execute_result"
    }
   ],
   "source": [
    "tersCevir(\"Ecem\")"
   ]
  },
  {
   "cell_type": "code",
   "execution_count": 99,
   "id": "4ee00e8c",
   "metadata": {},
   "outputs": [],
   "source": [
    "#Question4\n",
    "def getSameMember(array1,array2):\n",
    "    yeniListe=[]\n",
    "    for elemanA in array1:\n",
    "        for elemanB in array2:\n",
    "            if(elemanA==elemanB):\n",
    "                yeniListe.append(elemanA)\n",
    "    return yeniListe        \n",
    "                "
   ]
  },
  {
   "cell_type": "code",
   "execution_count": 100,
   "id": "d73a87d8",
   "metadata": {},
   "outputs": [
    {
     "data": {
      "text/plain": [
       "['elma', 'mandalina', 'erik']"
      ]
     },
     "execution_count": 100,
     "metadata": {},
     "output_type": "execute_result"
    }
   ],
   "source": [
    "getSameMember([\"elma\",\"armut\",\"mandalina\",\"portakal\",\"erik\"],[\"kavun\",\"elma\",\"çilek\",\"mandalina\",\"erik\",\"badem\",\"üzüm\",\"ceviz\"])"
   ]
  },
  {
   "cell_type": "code",
   "execution_count": null,
   "id": "ba3cbc13",
   "metadata": {},
   "outputs": [],
   "source": []
  }
 ],
 "metadata": {
  "kernelspec": {
   "display_name": "Python 3",
   "language": "python",
   "name": "python3"
  },
  "language_info": {
   "codemirror_mode": {
    "name": "ipython",
    "version": 3
   },
   "file_extension": ".py",
   "mimetype": "text/x-python",
   "name": "python",
   "nbconvert_exporter": "python",
   "pygments_lexer": "ipython3",
   "version": "3.8.8"
  }
 },
 "nbformat": 4,
 "nbformat_minor": 5
}
