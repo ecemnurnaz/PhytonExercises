{
 "cells": [
  {
   "cell_type": "code",
   "execution_count": 5,
   "id": "5fd282bf",
   "metadata": {},
   "outputs": [],
   "source": [
    "#Question 1\n",
    "def wannaBeSuccesful():\n",
    "    print(\"I promise that I will do this homework all my own\")"
   ]
  },
  {
   "cell_type": "code",
   "execution_count": 6,
   "id": "6e7f1aa7",
   "metadata": {},
   "outputs": [
    {
     "name": "stdout",
     "output_type": "stream",
     "text": [
      "I promise that I will do this homework all my own\n"
     ]
    }
   ],
   "source": [
    "wannaBeSuccesful()"
   ]
  },
  {
   "cell_type": "code",
   "execution_count": 3,
   "id": "6683b516",
   "metadata": {},
   "outputs": [],
   "source": [
    "#Question 2\n",
    "def findVolume(radius,height):\n",
    "    volume = 3.14*radius*radius*height\n",
    "    return volume"
   ]
  },
  {
   "cell_type": "code",
   "execution_count": 4,
   "id": "27e4b3a7",
   "metadata": {},
   "outputs": [
    {
     "data": {
      "text/plain": [
       "251.20000000000002"
      ]
     },
     "execution_count": 4,
     "metadata": {},
     "output_type": "execute_result"
    }
   ],
   "source": [
    "findVolume(4,5)"
   ]
  },
  {
   "cell_type": "code",
   "execution_count": 7,
   "id": "2e0cfd78",
   "metadata": {},
   "outputs": [],
   "source": [
    "#Question 3\n",
    "def findDistance(x1,x2,y1,y2):\n",
    "    distance=((x1-x2)**2+(y1-y2)**2)**0.5\n",
    "    return distance"
   ]
  },
  {
   "cell_type": "code",
   "execution_count": 8,
   "id": "6a08c11d",
   "metadata": {},
   "outputs": [
    {
     "data": {
      "text/plain": [
       "5.0"
      ]
     },
     "execution_count": 8,
     "metadata": {},
     "output_type": "execute_result"
    }
   ],
   "source": [
    "findDistance(1,4,1,5)"
   ]
  },
  {
   "cell_type": "code",
   "execution_count": 9,
   "id": "dd2ad47b",
   "metadata": {},
   "outputs": [],
   "source": [
    "#Question 4\n",
    "def findShortest(words):\n",
    "    for x in range(len(words)):\n",
    "        if(len(words[0])>len(words[x])):\n",
    "            shortest=words[x]\n",
    "    return shortest"
   ]
  },
  {
   "cell_type": "code",
   "execution_count": 11,
   "id": "34276ff6",
   "metadata": {},
   "outputs": [
    {
     "data": {
      "text/plain": [
       "'nar'"
      ]
     },
     "execution_count": 11,
     "metadata": {},
     "output_type": "execute_result"
    }
   ],
   "source": [
    "findShortest(['elma','nar','mandalina'])"
   ]
  },
  {
   "cell_type": "code",
   "execution_count": 9,
   "id": "ab1f96db",
   "metadata": {},
   "outputs": [],
   "source": [
    "#Question 4-2.edition\n",
    "def findLongest(words):\n",
    "    longest=words[0]\n",
    "    for word in words:\n",
    "        if(len(longest)<len(word)):\n",
    "            longest=word\n",
    "    return longest"
   ]
  },
  {
   "cell_type": "code",
   "execution_count": 10,
   "id": "c3a71646",
   "metadata": {},
   "outputs": [
    {
     "data": {
      "text/plain": [
       "'mandalina'"
      ]
     },
     "execution_count": 10,
     "metadata": {},
     "output_type": "execute_result"
    }
   ],
   "source": [
    "findLongest(['elma','nar','mandalina'])"
   ]
  },
  {
   "cell_type": "code",
   "execution_count": 11,
   "id": "4fff1464",
   "metadata": {},
   "outputs": [],
   "source": [
    "#Question 5\n",
    "def equalOrGreater(array,number):\n",
    "    newArray=[]\n",
    "    for no in array:\n",
    "        if(number<=no):\n",
    "            newArray.append(no)\n",
    "    return newArray"
   ]
  },
  {
   "cell_type": "code",
   "execution_count": 12,
   "id": "ce50a442",
   "metadata": {},
   "outputs": [
    {
     "data": {
      "text/plain": [
       "[43, 56, 45, 67, 78, 90, 35]"
      ]
     },
     "execution_count": 12,
     "metadata": {},
     "output_type": "execute_result"
    }
   ],
   "source": [
    "equalOrGreater([23, 33, 12, 43, 56, 32, 45, 67, 78, 90, 35],35)"
   ]
  },
  {
   "cell_type": "code",
   "execution_count": 13,
   "id": "deff12cd",
   "metadata": {},
   "outputs": [],
   "source": [
    "#Question 6\n",
    "def howMany(array,number):\n",
    "    adet=0\n",
    "    for no in array:\n",
    "        if(number==no):\n",
    "            adet+=1\n",
    "    return adet"
   ]
  },
  {
   "cell_type": "code",
   "execution_count": 14,
   "id": "4847b842",
   "metadata": {},
   "outputs": [
    {
     "data": {
      "text/plain": [
       "5"
      ]
     },
     "execution_count": 14,
     "metadata": {},
     "output_type": "execute_result"
    }
   ],
   "source": [
    "howMany([33, 21, 33, 99, 1, 33, 57, 33, 32, 123, 55, 33, 70],33)"
   ]
  },
  {
   "cell_type": "code",
   "execution_count": null,
   "id": "904dc140",
   "metadata": {},
   "outputs": [],
   "source": []
  }
 ],
 "metadata": {
  "kernelspec": {
   "display_name": "Python 3",
   "language": "python",
   "name": "python3"
  },
  "language_info": {
   "codemirror_mode": {
    "name": "ipython",
    "version": 3
   },
   "file_extension": ".py",
   "mimetype": "text/x-python",
   "name": "python",
   "nbconvert_exporter": "python",
   "pygments_lexer": "ipython3",
   "version": "3.8.8"
  }
 },
 "nbformat": 4,
 "nbformat_minor": 5
}
