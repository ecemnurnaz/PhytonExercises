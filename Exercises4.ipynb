{
 "cells": [
  {
   "cell_type": "code",
   "execution_count": 21,
   "id": "e1e2530c",
   "metadata": {},
   "outputs": [],
   "source": [
    "#Question1\n",
    "def countWords(file):\n",
    "\n",
    "    file=open(file,\"r\",encoding=\"utf-8\")\n",
    "    words=file.readlines()\n",
    "    palindromeWords=list()\n",
    "    for word in words:\n",
    "        word=word.strip('\\n')\n",
    "        reverseWord=word[::-1]\n",
    "        if(reverseWord.lower()==word.lower()):\n",
    "            palindromeWords.append(word)\n",
    "        \n",
    "    countPalindromes=len(palindromeWords)\n",
    "    return countPalindromes"
   ]
  },
  {
   "cell_type": "code",
   "execution_count": 22,
   "id": "7cd0594b",
   "metadata": {},
   "outputs": [
    {
     "data": {
      "text/plain": [
       "8"
      ]
     },
     "execution_count": 22,
     "metadata": {},
     "output_type": "execute_result"
    }
   ],
   "source": [
    "countWords(\"palindromes.txt\")"
   ]
  },
  {
   "cell_type": "code",
   "execution_count": 23,
   "id": "53827031",
   "metadata": {},
   "outputs": [],
   "source": [
    "#Question2\n",
    "def distinctWords(file):\n",
    "    \n",
    "    file=open(file,\"r\",encoding=\"utf-8\")\n",
    "    words=file.readlines()\n",
    "    dWords=set()\n",
    "    for row in words:\n",
    "        row=row.strip('\\n').split(' ')\n",
    "        for oneWord in row:\n",
    "            dWords.add(oneWord)\n",
    "    return dWords"
   ]
  },
  {
   "cell_type": "code",
   "execution_count": 24,
   "id": "618a7201",
   "metadata": {},
   "outputs": [
    {
     "data": {
      "text/plain": [
       "{'ananas',\n",
       " 'armut',\n",
       " 'elma',\n",
       " 'karpuz',\n",
       " 'kayısı',\n",
       " 'muz',\n",
       " 'nar',\n",
       " 'portakal',\n",
       " 'üzüm',\n",
       " 'şeftali'}"
      ]
     },
     "execution_count": 24,
     "metadata": {},
     "output_type": "execute_result"
    }
   ],
   "source": [
    "distinctWords(\"meyveler.txt\")"
   ]
  },
  {
   "cell_type": "code",
   "execution_count": 25,
   "id": "286f1261",
   "metadata": {},
   "outputs": [],
   "source": [
    "#Question3\n",
    "\n",
    "englishWords={\"ananas\":\"pineapple\",\"armut\":\"pear\",\"elma\":\"apple\",\"karpuz\":\"watermelon\",\"kayısı\":\"apricot\",\"muz\":\"banana\",\"nar\":\"pomegranate\",\"portakal\":\"orange\",\"üzüm\":\"grape\",\"şeftali\":\"peach\"}\n",
    "\n",
    "def translate(inputFilename,outputFilename):\n",
    "    english=list()\n",
    "    \n",
    "    inputFile=open(inputFilename,\"r\",encoding=\"utf-8\")\n",
    "    inputLines=inputFile.readlines()\n",
    "    outputFile = open(outputFilename,\"w\")\n",
    "    for line in inputLines:\n",
    "        line=line.strip('\\n').split(' ')\n",
    "        for one in line:\n",
    "            english.append(englishWords[one])\n",
    "    for one in english:\n",
    "        outputFile.write(one+'\\n')\n",
    "    outputFile.close()"
   ]
  },
  {
   "cell_type": "code",
   "execution_count": 26,
   "id": "b5c8c063",
   "metadata": {},
   "outputs": [],
   "source": [
    "translate('turkish.txt','english.txt')"
   ]
  },
  {
   "cell_type": "code",
   "execution_count": 27,
   "id": "2b317a89",
   "metadata": {},
   "outputs": [],
   "source": [
    "#Question4\n",
    "import numpy as np\n",
    "import matplotlib.pyplot as plt\n",
    "\n",
    "def getDolar(inputFilename):\n",
    "    \n",
    "    inputFile=np.loadtxt(inputFilename,dtype='str',delimiter='\\t')\n",
    "    dolar=inputFile[:,1]\n",
    "    dates=inputFile[:,0]\n",
    "    dolar=np.char.replace(dolar,',','.').astype(float)\n",
    "    \n",
    "    plt.scatter(range(len(dolar)), dolar)\n",
    "    plt.xlabel('days(12.10.2015-10.11.2020)')\n",
    "    plt.ylabel('dolar')\n",
    "    plt.show()"
   ]
  },
  {
   "cell_type": "code",
   "execution_count": 28,
   "id": "65d851d1",
   "metadata": {},
   "outputs": [
    {
     "data": {
      "image/png": "[encoded data removed]",
      "text/plain": [
       "<Figure size 432x288 with 1 Axes>"
      ]
     },
     "metadata": {
      "needs_background": "light"
     },
     "output_type": "display_data"
    }
   ],
   "source": [
    "getDolar(\"dolar.txt\")"
   ]
  },
  {
   "cell_type": "code",
   "execution_count": null,
   "id": "18b573db",
   "metadata": {},
   "outputs": [],
   "source": []
  }
 ],
 "metadata": {
  "kernelspec": {
   "display_name": "Python 3",
   "language": "python",
   "name": "python3"
  },
  "language_info": {
   "codemirror_mode": {
    "name": "ipython",
    "version": 3
   },
   "file_extension": ".py",
   "mimetype": "text/x-python",
   "name": "python",
   "nbconvert_exporter": "python",
   "pygments_lexer": "ipython3",
   "version": "3.8.8"
  }
 },
 "nbformat": 4,
 "nbformat_minor": 5
}
