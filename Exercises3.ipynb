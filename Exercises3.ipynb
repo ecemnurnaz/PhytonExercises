{
 "cells": [
  {
   "cell_type": "code",
   "execution_count": 57,
   "id": "744ae1e4",
   "metadata": {},
   "outputs": [],
   "source": [
    "#Question1\n",
    "def isPalindrome(word):\n",
    "    if(word.find(' ')!=-1):\n",
    "        word=word.split(' ')\n",
    "        for kelime in word:\n",
    "            terstenKelime=kelime[::-1]\n",
    "            if(terstenKelime.lower()==kelime.lower()):\n",
    "                return True\n",
    "            else:\n",
    "                return False\n",
    "    else:\n",
    "        tersten=word[::-1]\n",
    "        if(tersten.lower()==word.lower()):\n",
    "                return True\n",
    "        else:\n",
    "                return False\n",
    "            "
   ]
  },
  {
   "cell_type": "code",
   "execution_count": 58,
   "id": "e86a5156",
   "metadata": {},
   "outputs": [
    {
     "data": {
      "text/plain": [
       "True"
      ]
     },
     "execution_count": 58,
     "metadata": {},
     "output_type": "execute_result"
    }
   ],
   "source": [
    "isPalindrome(' Ey Edip Adanada pide ye')"
   ]
  },
  {
   "cell_type": "code",
   "execution_count": 59,
   "id": "a8b2e296",
   "metadata": {},
   "outputs": [
    {
     "data": {
      "text/plain": [
       "True"
      ]
     },
     "execution_count": 59,
     "metadata": {},
     "output_type": "execute_result"
    }
   ],
   "source": [
    "isPalindrome('Rotator')"
   ]
  },
  {
   "cell_type": "code",
   "execution_count": 60,
   "id": "bf0d6651",
   "metadata": {},
   "outputs": [
    {
     "data": {
      "text/plain": [
       "False"
      ]
     },
     "execution_count": 60,
     "metadata": {},
     "output_type": "execute_result"
    }
   ],
   "source": [
    "isPalindrome(\"dfabfd\")"
   ]
  },
  {
   "cell_type": "code",
   "execution_count": 61,
   "id": "44344c90",
   "metadata": {},
   "outputs": [
    {
     "data": {
      "text/plain": [
       "True"
      ]
     },
     "execution_count": 61,
     "metadata": {},
     "output_type": "execute_result"
    }
   ],
   "source": [
    "isPalindrome(\"dfbfbfd ghjjhg\")"
   ]
  },
  {
   "cell_type": "code",
   "execution_count": 62,
   "id": "d5dd2035",
   "metadata": {},
   "outputs": [],
   "source": [
    "#Question2\n",
    "def lastLetterUppercase(sentence):\n",
    "    if(sentence.find(' ')!=-1):\n",
    "        liste=[]\n",
    "        sentence=sentence.split(' ')\n",
    "        for word in sentence:\n",
    "            word=word[:len(word)-1]+word[len(word)-1:].upper()\n",
    "            liste.append(word) \n",
    "        sentence=' '.join(str(word) for word in liste)\n",
    "        \n",
    "    else:\n",
    "        sentence=sentence[:len(sentence)-1]+sentence[len(sentence)-1:].upper()\n",
    "    \n",
    "    return sentence\n",
    "        \n",
    "        "
   ]
  },
  {
   "cell_type": "code",
   "execution_count": 63,
   "id": "f921d58e",
   "metadata": {},
   "outputs": [
    {
     "data": {
      "text/plain": [
       "'evveL zamaN içindE kalbuR samaN içindE'"
      ]
     },
     "execution_count": 63,
     "metadata": {},
     "output_type": "execute_result"
    }
   ],
   "source": [
    "lastLetterUppercase('evvel zaman içinde kalbur saman içinde')"
   ]
  },
  {
   "cell_type": "code",
   "execution_count": 64,
   "id": "3d1e163a",
   "metadata": {},
   "outputs": [
    {
     "data": {
      "text/plain": [
       "'evveL'"
      ]
     },
     "execution_count": 64,
     "metadata": {},
     "output_type": "execute_result"
    }
   ],
   "source": [
    "lastLetterUppercase('evvel')"
   ]
  },
  {
   "cell_type": "code",
   "execution_count": 65,
   "id": "40a51a5f",
   "metadata": {},
   "outputs": [],
   "source": [
    "#Question3\n",
    "def longestPalindromeWord(sentence):\n",
    "    sentence=sentence.split()\n",
    "    palindromeList=[]\n",
    "    for word in sentence:\n",
    "        if(word.lower()==word[::-1].lower()):\n",
    "            palindromeList.append(word)\n",
    "    \n",
    "    theLongest=palindromeList[0]\n",
    "    for one in palindromeList:\n",
    "        if(len(one)>len(theLongest)):\n",
    "            theLongest=one\n",
    "    return theLongest"
   ]
  },
  {
   "cell_type": "code",
   "execution_count": 66,
   "id": "174ebae5",
   "metadata": {},
   "outputs": [
    {
     "data": {
      "text/plain": [
       "'küllük'"
      ]
     },
     "execution_count": 66,
     "metadata": {},
     "output_type": "execute_result"
    }
   ],
   "source": [
    "longestPalindromeWord('Otoyolda küllük iki adet radar var ama arabada  yok.')"
   ]
  },
  {
   "cell_type": "code",
   "execution_count": 67,
   "id": "f5b78a45",
   "metadata": {},
   "outputs": [],
   "source": [
    "#Question4   hocam 'cumle'yi listeye ekleyip listeyi returnle de döndürdüm ama istediğiniz output print ile çıkıyor.\n",
    "def infoList(counts,products,prices):\n",
    "    #liste=[]\n",
    "    for x in range(0,len(products)):\n",
    "        cumle='we have '+str(counts[x])+' '+str(products[x])+'s, each one is '+str(prices[x])+' TL and the total price is '+str(counts[x]*prices[x])+' TL'\n",
    "        print(cumle)"
   ]
  },
  {
   "cell_type": "code",
   "execution_count": 68,
   "id": "6634cec1",
   "metadata": {},
   "outputs": [
    {
     "name": "stdout",
     "output_type": "stream",
     "text": [
      "we have 3 Computers, each one is 3000 TL and the total price is 9000 TL\n",
      "we have 2 Tables, each one is 250 TL and the total price is 500 TL\n",
      "we have 8 Chairs, each one is 80 TL and the total price is 640 TL\n"
     ]
    }
   ],
   "source": [
    "infoList([3, 2, 8], ['Computer','Table','Chair'],[3000, 250, 80])"
   ]
  },
  {
   "cell_type": "code",
   "execution_count": 69,
   "id": "35d52028",
   "metadata": {},
   "outputs": [],
   "source": [
    "#Question5 \n",
    "\n",
    "def sameLetters(word1,word2):\n",
    "    list1, list2 = word1, word2\n",
    "    sozluk, sozluk2 = dict(), dict()\n",
    "    \n",
    "    for x in list1:\n",
    "        sozluk.update({x:list1.count(x)})\n",
    "        \n",
    "    for y in list2:\n",
    "        sozluk2.update({y:list2.count(y)})\n",
    "        \n",
    "    #print(sozluk,sozluk2)\n",
    "    \n",
    "    if(sozluk==sozluk2):\n",
    "        return True\n",
    "    else:\n",
    "        return False\n",
    "        \n",
    "    \n",
    "    "
   ]
  },
  {
   "cell_type": "code",
   "execution_count": 70,
   "id": "ec8641f0",
   "metadata": {},
   "outputs": [
    {
     "data": {
      "text/plain": [
       "False"
      ]
     },
     "execution_count": 70,
     "metadata": {},
     "output_type": "execute_result"
    }
   ],
   "source": [
    "sameLetters('abbc','abcc')"
   ]
  },
  {
   "cell_type": "code",
   "execution_count": 71,
   "id": "f7e822fd",
   "metadata": {},
   "outputs": [
    {
     "data": {
      "text/plain": [
       "False"
      ]
     },
     "execution_count": 71,
     "metadata": {},
     "output_type": "execute_result"
    }
   ],
   "source": [
    "sameLetters('mammut','mamut')"
   ]
  },
  {
   "cell_type": "code",
   "execution_count": 72,
   "id": "429dd8b1",
   "metadata": {},
   "outputs": [
    {
     "data": {
      "text/plain": [
       "True"
      ]
     },
     "execution_count": 72,
     "metadata": {},
     "output_type": "execute_result"
    }
   ],
   "source": [
    "sameLetters('ekrem','kerem')"
   ]
  }
 ],
 "metadata": {
  "kernelspec": {
   "display_name": "Python 3",
   "language": "python",
   "name": "python3"
  },
  "language_info": {
   "codemirror_mode": {
    "name": "ipython",
    "version": 3
   },
   "file_extension": ".py",
   "mimetype": "text/x-python",
   "name": "python",
   "nbconvert_exporter": "python",
   "pygments_lexer": "ipython3",
   "version": "3.8.8"
  }
 },
 "nbformat": 4,
 "nbformat_minor": 5
}
